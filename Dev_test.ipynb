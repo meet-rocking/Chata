{
 "cells": [
  {
   "cell_type": "code",
   "execution_count": null,
   "metadata": {},
   "outputs": [],
   "source": [
    "import pandas as pd\n",
    "from string import punctuation\n",
    "from collections import Counter\n",
    "from keras.utils import to_categorical\n",
    "from sklearn import preprocessing\n",
    "import matplotlib.pyplot as plt\n",
    "import numpy as np\n",
    "from nltk.corpus import stopwords\n",
    "from nltk.tokenize import word_tokenize\n",
    "\n",
    "from keras.models import Sequential\n",
    "from keras import layers\n",
    "from keras import regularizers\n",
    "from keras import backend as K\n",
    "from keras.callbacks import ModelCheckpoint"
   ]
  },
  {
   "cell_type": "code",
   "execution_count": null,
   "metadata": {},
   "outputs": [],
   "source": [
    "df = pd.read_csv(\"sentiment_dataset_dev.csv\") #read data\n",
    "df.head()"
   ]
  },
  {
   "cell_type": "markdown",
   "metadata": {},
   "source": [
    "Data Cleaning"
   ]
  },
  {
   "cell_type": "code",
   "execution_count": null,
   "metadata": {},
   "outputs": [],
   "source": [
    "def clean(Data_frame):\n",
    "    Data_frame['Clean_data'] = \"\"     # Create an empty column for clean data\n",
    "    for i in range(len(Data_frame['review'])):\n",
    "        review = Data_frame['review'][i]\n",
    "        #print(review)\n",
    "        review_lower_case = review.lower()    # convert reviews into lower case\n",
    "        remove_special_charactors = ''.join([c for c in review_lower_case if c not in punctuation])  # remove special charactor\n",
    "        reviews_split = remove_special_charactors.split('\\n')\n",
    "        #filtered_sentence = ' '.join([word for word in str(reviews_split).split() if word not in stopwords.words(\"english\")])\n",
    "        #print(filtered_sentence)\n",
    "        Data_frame.loc[i,['Clean_data']]=reviews_split  # adding clean review to our new column\n",
    "        "
   ]
  },
  {
   "cell_type": "code",
   "execution_count": null,
   "metadata": {},
   "outputs": [],
   "source": [
    "clean(df)"
   ]
  },
  {
   "cell_type": "code",
   "execution_count": null,
   "metadata": {},
   "outputs": [],
   "source": [
    "df.head() # cheack data frame, a new clean data frame"
   ]
  },
  {
   "cell_type": "markdown",
   "metadata": {},
   "source": [
    "Tokenize"
   ]
  },
  {
   "cell_type": "code",
   "execution_count": null,
   "metadata": {},
   "outputs": [],
   "source": [
    "all_text = ' '.join(review for review in df['Clean_data'])    # join all the clean reviews\n",
    "print(all_text[:9000])"
   ]
  },
  {
   "cell_type": "code",
   "execution_count": null,
   "metadata": {},
   "outputs": [],
   "source": [
    "words = all_text.split()    \n",
    "count_words = Counter(words)    # Count all the words using Counter Method\n",
    "print(\"Total_words:\", len(count_words))\n",
    "print(\"count_words:\", count_words)\n",
    "total_words = len(words)\n"
   ]
  },
  {
   "cell_type": "code",
   "execution_count": null,
   "metadata": {},
   "outputs": [],
   "source": [
    "vocab_to_int = {w:i for i, w in enumerate(count_words)} # Create dictionary for words and convert them into integer"
   ]
  },
  {
   "cell_type": "code",
   "execution_count": null,
   "metadata": {},
   "outputs": [],
   "source": [
    "len(vocab_to_int)"
   ]
  },
  {
   "cell_type": "code",
   "execution_count": null,
   "metadata": {},
   "outputs": [],
   "source": [
    "# Convert our clean reviews into integer using the vocab_to_int dictionary\n",
    "reviews_int = []\n",
    "for i in range(len(df['Clean_data'])):\n",
    "    review = df['Clean_data'][i]\n",
    "    r = [vocab_to_int[w] for w in review.split()]\n",
    "    reviews_int.append(r)\n",
    "print (reviews_int[0:3])"
   ]
  },
  {
   "cell_type": "code",
   "execution_count": null,
   "metadata": {},
   "outputs": [],
   "source": [
    "label = to_categorical( df['rating']) #convert labels into categories"
   ]
  },
  {
   "cell_type": "code",
   "execution_count": null,
   "metadata": {},
   "outputs": [],
   "source": [
    "reviews_len = [len(x) for x in reviews_int] #find the average length of reviews\n",
    "pd.Series(reviews_len).hist()\n",
    "plt.show()\n",
    "pd.Series(reviews_len).describe()"
   ]
  },
  {
   "cell_type": "code",
   "execution_count": null,
   "metadata": {},
   "outputs": [],
   "source": [
    "def pad_features(reviews_int, seq_length):\n",
    "    ''' Return features of review_ints, where each review is padded with 0's or truncated to the input seq_length.\n",
    "    '''\n",
    "    features = np.zeros((len(reviews_int), seq_length), dtype = int)\n",
    "    \n",
    "    for i, review in enumerate(reviews_int):\n",
    "        review_len = len(review)\n",
    "        \n",
    "        if review_len <= seq_length:\n",
    "            zeroes = list(np.zeros(seq_length-review_len))\n",
    "            new = zeroes+review\n",
    "        elif review_len > seq_length:\n",
    "            new = review[0:seq_length]\n",
    "        \n",
    "        features[i,:] = np.array(new)\n",
    "    \n",
    "    return features"
   ]
  },
  {
   "cell_type": "code",
   "execution_count": null,
   "metadata": {},
   "outputs": [],
   "source": [
    "Features = pad_features(reviews_int, 220)"
   ]
  },
  {
   "cell_type": "code",
   "execution_count": null,
   "metadata": {},
   "outputs": [],
   "source": [
    "split_frac = 0.9    # Train-test split\n",
    "train_x = Features[0:int(split_frac*len(Features))]\n",
    "train_y = label[0:int(split_frac*len(Features))]\n",
    "\n",
    "valid_x = Features[int(split_frac*len(Features)):]\n",
    "valid_y = label[int(split_frac*len(Features)):]\n"
   ]
  },
  {
   "cell_type": "code",
   "execution_count": null,
   "metadata": {},
   "outputs": [],
   "source": [
    "model1 = Sequential()\n",
    "model1.add(layers.Embedding(len(vocab_to_int), 50)) #The embedding layer\n",
    "model1.add(layers.LSTM(20,dropout=0.5, return_sequences=True)) #Our LSTM layer\n",
    "model1.add(layers.LSTM(20,dropout=0.2))\n",
    "model1.add(layers.Dense(6,activation='softmax'))\n",
    "\n",
    "\n",
    "model1.compile(optimizer='rmsprop',loss='categorical_crossentropy', metrics=['accuracy'])\n",
    "\n",
    "checkpoint1 = ModelCheckpoint(\"best_model1.hdf5\", monitor='val_accuracy', verbose=1,save_best_only=True, mode='auto', period=1,save_weights_only=False)\n",
    "model1.fit(train_x, train_y, epochs=50,validation_data=(valid_x, valid_y),callbacks=[checkpoint1],batch_size = 32)\n",
    "model1.save('LSTM_1')"
   ]
  },
  {
   "cell_type": "markdown",
   "metadata": {},
   "source": [
    "Purpose of this modal is to understand the workflow and suitability of the model, In LSTM.py this idea is developed in a very clean function which are very easy to use. Since test.csv has more data, model test accuracy for that file is 95.23% and validation accuracy is 72.35%"
   ]
  },
  {
   "cell_type": "code",
   "execution_count": null,
   "metadata": {},
   "outputs": [],
   "source": []
  }
 ],
 "metadata": {
  "kernelspec": {
   "display_name": "Python 3",
   "language": "python",
   "name": "python3"
  },
  "language_info": {
   "codemirror_mode": {
    "name": "ipython",
    "version": 3
   },
   "file_extension": ".py",
   "mimetype": "text/x-python",
   "name": "python",
   "nbconvert_exporter": "python",
   "pygments_lexer": "ipython3",
   "version": "3.6.8"
  }
 },
 "nbformat": 4,
 "nbformat_minor": 2
}
